{
 "cells": [
  {
   "cell_type": "code",
   "execution_count": 62,
   "id": "99e5bb6c",
   "metadata": {},
   "outputs": [],
   "source": [
    "a = '()(){{})}{}[]}{[()]}'\n",
    "class Stack(object):\n",
    "    def __init__(self):\n",
    "        self._list = []\n",
    "    #栈\n",
    "    def push(self,item):\n",
    "        # 添加新元素item到栈顶\n",
    "        self._list.append(item)\n",
    "    def pop(self):\n",
    "        # 弹出栈顶元素\n",
    "        return self._list.pop()\n",
    "    def peek(self):\n",
    "        # 返回栈顶元素\n",
    "        if self._list:\n",
    "            return self._list[-1]\n",
    "        else:\n",
    "            return None\n",
    "    def is_empty(self):\n",
    "        # 判断栈是否为空\n",
    "        if len(self._list)>0:\n",
    "            return True\n",
    "        else:\n",
    "            return False\n",
    "    def size(self):\n",
    "        # 返回栈的元素个数\n",
    "        return len(self._list)\n",
    "\n"
   ]
  },
  {
   "cell_type": "code",
   "execution_count": 63,
   "id": "60da2157",
   "metadata": {},
   "outputs": [
    {
     "name": "stdout",
     "output_type": "stream",
     "text": [
      "0\n"
     ]
    }
   ],
   "source": [
    "def brace_match(a):\n",
    "    s = Stack()\n",
    "    match = {')':'(',']':'[','}':'{'}\n",
    "    count = 0\n",
    "    for i in a:\n",
    "        if i in {'(','[','{'}:\n",
    "            s.push(i)\n",
    "        else:\n",
    "            if s.is_empty():\n",
    "                s.pop()\n",
    "            #if not s.is_empty() and s.pop():\n",
    "            elif s.peek() == match[i]:\n",
    "                s.pop()\n",
    "                count+=1\n",
    "            else:\n",
    "                continue\n",
    "                \n",
    "    print(count)\n",
    "brace_match(a)"
   ]
  },
  {
   "cell_type": "markdown",
   "id": "f382048d",
   "metadata": {},
   "source": []
  },
  {
   "cell_type": "code",
   "execution_count": null,
   "id": "709a8702",
   "metadata": {},
   "outputs": [],
   "source": []
  },
  {
   "cell_type": "code",
   "execution_count": null,
   "id": "c7dc014e",
   "metadata": {},
   "outputs": [],
   "source": []
  }
 ],
 "metadata": {
  "kernelspec": {
   "display_name": "Python 3 (ipykernel)",
   "language": "python",
   "name": "python3"
  },
  "language_info": {
   "codemirror_mode": {
    "name": "ipython",
    "version": 3
   },
   "file_extension": ".py",
   "mimetype": "text/x-python",
   "name": "python",
   "nbconvert_exporter": "python",
   "pygments_lexer": "ipython3",
   "version": "3.10.9"
  }
 },
 "nbformat": 4,
 "nbformat_minor": 5
}
